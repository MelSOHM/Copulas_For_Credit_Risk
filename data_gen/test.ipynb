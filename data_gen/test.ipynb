{
 "cells": [
  {
   "cell_type": "code",
   "execution_count": 2,
   "metadata": {},
   "outputs": [],
   "source": [
    "import data_gen.data_gen as dg\n",
    "import pandas as pd"
   ]
  },
  {
   "cell_type": "code",
   "execution_count": 3,
   "metadata": {},
   "outputs": [],
   "source": [
    "df = pd.read_csv(\"loan_portfolio.csv\")"
   ]
  },
  {
   "cell_type": "code",
   "execution_count": 4,
   "metadata": {},
   "outputs": [
    {
     "data": {
      "text/html": [
       "<div>\n",
       "<style scoped>\n",
       "    .dataframe tbody tr th:only-of-type {\n",
       "        vertical-align: middle;\n",
       "    }\n",
       "\n",
       "    .dataframe tbody tr th {\n",
       "        vertical-align: top;\n",
       "    }\n",
       "\n",
       "    .dataframe thead th {\n",
       "        text-align: right;\n",
       "    }\n",
       "</style>\n",
       "<table border=\"1\" class=\"dataframe\">\n",
       "  <thead>\n",
       "    <tr style=\"text-align: right;\">\n",
       "      <th></th>\n",
       "      <th>Loan_ID</th>\n",
       "      <th>Loan_Amount</th>\n",
       "      <th>Maturity_Years</th>\n",
       "      <th>Default_Probability</th>\n",
       "    </tr>\n",
       "  </thead>\n",
       "  <tbody>\n",
       "    <tr>\n",
       "      <th>0</th>\n",
       "      <td>Loan_1</td>\n",
       "      <td>1.061810e+06</td>\n",
       "      <td>2</td>\n",
       "      <td>0.156484</td>\n",
       "    </tr>\n",
       "    <tr>\n",
       "      <th>1</th>\n",
       "      <td>Loan_2</td>\n",
       "      <td>1.926071e+06</td>\n",
       "      <td>2</td>\n",
       "      <td>0.103821</td>\n",
       "    </tr>\n",
       "    <tr>\n",
       "      <th>2</th>\n",
       "      <td>Loan_3</td>\n",
       "      <td>1.597991e+06</td>\n",
       "      <td>4</td>\n",
       "      <td>0.109319</td>\n",
       "    </tr>\n",
       "    <tr>\n",
       "      <th>3</th>\n",
       "      <td>Loan_4</td>\n",
       "      <td>1.397988e+06</td>\n",
       "      <td>8</td>\n",
       "      <td>0.091233</td>\n",
       "    </tr>\n",
       "    <tr>\n",
       "      <th>4</th>\n",
       "      <td>Loan_5</td>\n",
       "      <td>7.340280e+05</td>\n",
       "      <td>7</td>\n",
       "      <td>0.014830</td>\n",
       "    </tr>\n",
       "  </tbody>\n",
       "</table>\n",
       "</div>"
      ],
      "text/plain": [
       "  Loan_ID   Loan_Amount  Maturity_Years  Default_Probability\n",
       "0  Loan_1  1.061810e+06               2             0.156484\n",
       "1  Loan_2  1.926071e+06               2             0.103821\n",
       "2  Loan_3  1.597991e+06               4             0.109319\n",
       "3  Loan_4  1.397988e+06               8             0.091233\n",
       "4  Loan_5  7.340280e+05               7             0.014830"
      ]
     },
     "execution_count": 4,
     "metadata": {},
     "output_type": "execute_result"
    }
   ],
   "source": [
    "df.head()"
   ]
  },
  {
   "cell_type": "code",
   "execution_count": 5,
   "metadata": {},
   "outputs": [
    {
     "name": "stdout",
     "output_type": "stream",
     "text": [
      "Distribution stationnaire : [ 0. -0. -0. -0. -0. -0. -0.  1.]\n"
     ]
    }
   ],
   "source": [
    "import numpy as np\n",
    "\n",
    "# Définir la matrice de transition (convertie en fractions)\n",
    "Phi = np.array([\n",
    "    [90.788, 8.291, 0.716, 0.102, 0.102, 0, 0, 0],\n",
    "    [0.103, 91.219, 7.851, 0.620, 0.103, 0.103, 0, 0],\n",
    "    [0.924, 2.361, 90.041, 5.441, 0.719, 0.308, 0.103, 0.103],\n",
    "    [0, 0.318, 5.938, 86.947, 5.302, 1.166, 0.117, 0.212],\n",
    "    [0, 0.110, 0.659, 7.692, 80.549, 8.791, 0.989, 1.209],\n",
    "    [0, 0.114, 0.227, 0.454, 6.470, 82.747, 4.086, 5.902],\n",
    "    [0, 0, 0.456, 1.251, 2.275, 12.856, 60.637, 22.526],\n",
    "    [0, 0, 0, 0, 0, 0, 0, 100.0],\n",
    "]) / 100  # Conversion en probabilités\n",
    "\n",
    "# Calculer la distribution stationnaire\n",
    "n = Phi.shape[0]\n",
    "A = Phi.T - np.eye(n)  # Phi^T - I\n",
    "A[-1, :] = 1  # Ajouter la contrainte somme(pi) = 1\n",
    "\n",
    "b = np.zeros(n)\n",
    "b[-1] = 1\n",
    "\n",
    "# Résoudre le système linéaire\n",
    "p_stationary = np.linalg.solve(A, b)\n",
    "\n",
    "# Afficher la distribution stationnaire\n",
    "print(\"Distribution stationnaire :\", p_stationary)\n"
   ]
  }
 ],
 "metadata": {
  "kernelspec": {
   "display_name": "copulas_credit",
   "language": "python",
   "name": "python3"
  },
  "language_info": {
   "codemirror_mode": {
    "name": "ipython",
    "version": 3
   },
   "file_extension": ".py",
   "mimetype": "text/x-python",
   "name": "python",
   "nbconvert_exporter": "python",
   "pygments_lexer": "ipython3",
   "version": "3.10.12"
  },
  "orig_nbformat": 4
 },
 "nbformat": 4,
 "nbformat_minor": 2
}
