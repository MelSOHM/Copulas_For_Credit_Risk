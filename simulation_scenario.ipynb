{
 "cells": [
  {
   "cell_type": "code",
   "execution_count": 1,
   "metadata": {},
   "outputs": [],
   "source": [
    "import utils_simulation as ut\n",
    "import copulas_impl as cop\n",
    "import pandas as pd\n",
    "import pricer"
   ]
  },
  {
   "cell_type": "code",
   "execution_count": 2,
   "metadata": {},
   "outputs": [
    {
     "data": {
      "text/html": [
       "<div>\n",
       "<style scoped>\n",
       "    .dataframe tbody tr th:only-of-type {\n",
       "        vertical-align: middle;\n",
       "    }\n",
       "\n",
       "    .dataframe tbody tr th {\n",
       "        vertical-align: top;\n",
       "    }\n",
       "\n",
       "    .dataframe thead th {\n",
       "        text-align: right;\n",
       "    }\n",
       "</style>\n",
       "<table border=\"1\" class=\"dataframe\">\n",
       "  <thead>\n",
       "    <tr style=\"text-align: right;\">\n",
       "      <th></th>\n",
       "      <th>Loan_ID</th>\n",
       "      <th>Loan_Amount</th>\n",
       "      <th>Maturity_Years</th>\n",
       "      <th>Default_Probability</th>\n",
       "      <th>Interest_Rate</th>\n",
       "    </tr>\n",
       "  </thead>\n",
       "  <tbody>\n",
       "    <tr>\n",
       "      <th>0</th>\n",
       "      <td>Loan_1</td>\n",
       "      <td>1.061810e+06</td>\n",
       "      <td>2</td>\n",
       "      <td>0.156484</td>\n",
       "      <td>0.042787</td>\n",
       "    </tr>\n",
       "    <tr>\n",
       "      <th>1</th>\n",
       "      <td>Loan_2</td>\n",
       "      <td>1.926071e+06</td>\n",
       "      <td>2</td>\n",
       "      <td>0.103821</td>\n",
       "      <td>0.022951</td>\n",
       "    </tr>\n",
       "    <tr>\n",
       "      <th>2</th>\n",
       "      <td>Loan_3</td>\n",
       "      <td>1.597991e+06</td>\n",
       "      <td>4</td>\n",
       "      <td>0.109319</td>\n",
       "      <td>0.068765</td>\n",
       "    </tr>\n",
       "    <tr>\n",
       "      <th>3</th>\n",
       "      <td>Loan_4</td>\n",
       "      <td>1.397988e+06</td>\n",
       "      <td>8</td>\n",
       "      <td>0.091233</td>\n",
       "      <td>0.060214</td>\n",
       "    </tr>\n",
       "    <tr>\n",
       "      <th>4</th>\n",
       "      <td>Loan_5</td>\n",
       "      <td>7.340280e+05</td>\n",
       "      <td>7</td>\n",
       "      <td>0.014830</td>\n",
       "      <td>0.024118</td>\n",
       "    </tr>\n",
       "  </tbody>\n",
       "</table>\n",
       "</div>"
      ],
      "text/plain": [
       "  Loan_ID   Loan_Amount  Maturity_Years  Default_Probability  Interest_Rate\n",
       "0  Loan_1  1.061810e+06               2             0.156484       0.042787\n",
       "1  Loan_2  1.926071e+06               2             0.103821       0.022951\n",
       "2  Loan_3  1.597991e+06               4             0.109319       0.068765\n",
       "3  Loan_4  1.397988e+06               8             0.091233       0.060214\n",
       "4  Loan_5  7.340280e+05               7             0.014830       0.024118"
      ]
     },
     "execution_count": 2,
     "metadata": {},
     "output_type": "execute_result"
    }
   ],
   "source": [
    "portfolio = ut.load_portfolio()\n",
    "correlation_matrix = pd.read_csv(\"correlation_matrix.csv\", header=None)\n",
    "portfolio.head()"
   ]
  },
  {
   "cell_type": "markdown",
   "metadata": {},
   "source": [
    "# Simulation Générale"
   ]
  },
  {
   "cell_type": "markdown",
   "metadata": {},
   "source": [
    "## Gaussian Copulas"
   ]
  },
  {
   "cell_type": "code",
   "execution_count": 7,
   "metadata": {},
   "outputs": [],
   "source": [
    "gaussian_samples = cop.gaussian_copula_sample(correlation_matrix.to_numpy(), 1)"
   ]
  },
  {
   "cell_type": "code",
   "execution_count": 10,
   "metadata": {},
   "outputs": [
    {
     "data": {
      "text/plain": [
       "(50,)"
      ]
     },
     "execution_count": 10,
     "metadata": {},
     "output_type": "execute_result"
    }
   ],
   "source": [
    "gaussian_samples.shape"
   ]
  },
  {
   "cell_type": "code",
   "execution_count": 225,
   "metadata": {},
   "outputs": [],
   "source": [
    "defaults_matrix = ut.simulate_defaults(gaussian_samples, portfolio[\"Default_Probability\"].values)"
   ]
  },
  {
   "cell_type": "code",
   "execution_count": 5,
   "metadata": {},
   "outputs": [
    {
     "name": "stdout",
     "output_type": "stream",
     "text": [
      "Résumé des scénarios de défauts :\n",
      "Taux moyen de défaut : 9.74%\n",
      "Taux minimum de défaut : 2.00%\n",
      "Taux maximum de défaut : 24.00%\n"
     ]
    },
    {
     "data": {
      "image/png": "[encoded data removed]",
      "text/plain": [
       "<Figure size 640x480 with 1 Axes>"
      ]
     },
     "metadata": {},
     "output_type": "display_data"
    },
    {
     "name": "stdout",
     "output_type": "stream",
     "text": [
      "Probabilité de scénarios avec plus de 30% de défauts : 0.00%\n"
     ]
    },
    {
     "name": "stderr",
     "output_type": "stream",
     "text": [
      "/Users/Mel/Desktop/Ecole_Inge/MFD/Risque de Credit et Défaut/Copulas_For_Credit_Risk/creditProj/lib/python3.10/site-packages/numpy/lib/_function_base_impl.py:3045: RuntimeWarning: invalid value encountered in divide\n",
      "  c /= stddev[:, None]\n",
      "/Users/Mel/Desktop/Ecole_Inge/MFD/Risque de Credit et Défaut/Copulas_For_Credit_Risk/creditProj/lib/python3.10/site-packages/numpy/lib/_function_base_impl.py:3046: RuntimeWarning: invalid value encountered in divide\n",
      "  c /= stddev[None, :]\n"
     ]
    },
    {
     "data": {
      "image/png": "[encoded data removed]",
      "text/plain": [
       "<Figure size 1000x800 with 2 Axes>"
      ]
     },
     "metadata": {},
     "output_type": "display_data"
    },
    {
     "name": "stdout",
     "output_type": "stream",
     "text": [
      "Pertes moyennes : $3,482,421\n",
      "Pertes maximales : $8,935,140\n",
      "Pertes minimales : $580,540\n"
     ]
    },
    {
     "name": "stderr",
     "output_type": "stream",
     "text": [
      "/Users/Mel/Desktop/Ecole_Inge/MFD/Risque de Credit et Défaut/Copulas_For_Credit_Risk/utils_simulation.py:70: FutureWarning: The default of observed=False is deprecated and will be changed to True in a future version of pandas. Pass observed=False to retain current behavior or observed=True to adopt the future default and silence this warning.\n",
      "  default_rates_by_tranche = portfolio.groupby(\"Tranche\")[\"Average_Default_Contribution\"].mean()\n"
     ]
    },
    {
     "name": "stdout",
     "output_type": "stream",
     "text": [
      "Taux de défaut moyen par tranche :\n",
      " Tranche\n",
      "0-1M      0.090000\n",
      "1-1.5M    0.109375\n",
      "1.5-2M    0.095000\n",
      "Name: Average_Default_Contribution, dtype: float64\n"
     ]
    }
   ],
   "source": [
    "ut.print_summary(defaults_matrix, portfolio, recovery_rate=0.4)"
   ]
  },
  {
   "cell_type": "markdown",
   "metadata": {},
   "source": [
    "## Clayton Copulas"
   ]
  },
  {
   "cell_type": "code",
   "execution_count": 63,
   "metadata": {},
   "outputs": [],
   "source": [
    "Clayton_samples = cop.clayton_copula_multivariate(theta=10,num_samples=100,portfolio_size=len(portfolio)) # theta >= -1"
   ]
  },
  {
   "cell_type": "code",
   "execution_count": 64,
   "metadata": {},
   "outputs": [],
   "source": [
    "defaults_matrix = ut.simulate_defaults(Clayton_samples, portfolio[\"Default_Probability\"].values)"
   ]
  },
  {
   "cell_type": "code",
   "execution_count": 65,
   "metadata": {},
   "outputs": [
    {
     "data": {
      "text/plain": [
       "array([[1, 1, 1, ..., 0, 1, 0],\n",
       "       [0, 0, 0, ..., 0, 0, 0],\n",
       "       [1, 1, 1, ..., 1, 1, 1],\n",
       "       ...,\n",
       "       [1, 1, 1, ..., 0, 1, 1],\n",
       "       [0, 1, 0, ..., 0, 0, 0],\n",
       "       [0, 0, 1, ..., 0, 0, 0]], shape=(100, 50))"
      ]
     },
     "execution_count": 65,
     "metadata": {},
     "output_type": "execute_result"
    }
   ],
   "source": [
    "defaults_matrix"
   ]
  },
  {
   "cell_type": "code",
   "execution_count": 66,
   "metadata": {},
   "outputs": [
    {
     "name": "stdout",
     "output_type": "stream",
     "text": [
      "Résumé des scénarios de défauts :\n",
      "Taux moyen de défaut : 20.56%\n",
      "Taux minimum de défaut : 2.00%\n",
      "Taux maximum de défaut : 100.00%\n"
     ]
    },
    {
     "data": {
      "image/png": "[encoded data removed]",
      "text/plain": [
       "<Figure size 640x480 with 1 Axes>"
      ]
     },
     "metadata": {},
     "output_type": "display_data"
    },
    {
     "name": "stdout",
     "output_type": "stream",
     "text": [
      "Probabilité de scénarios avec plus de 30% de défauts : 18.00%\n"
     ]
    },
    {
     "data": {
      "image/png": "[encoded data removed]",
      "text/plain": [
       "<Figure size 1000x800 with 2 Axes>"
      ]
     },
     "metadata": {},
     "output_type": "display_data"
    },
    {
     "name": "stdout",
     "output_type": "stream",
     "text": [
      "Pertes moyennes : $7,147,739\n",
      "Pertes maximales : $35,066,576\n",
      "Pertes minimales : $358,546\n",
      "Taux de défaut moyen par tranche :\n",
      " Tranche\n",
      "0-1M      0.209545\n",
      "1-1.5M    0.216875\n",
      "1.5-2M    0.183333\n",
      "Name: Average_Default_Contribution, dtype: float64\n"
     ]
    },
    {
     "name": "stderr",
     "output_type": "stream",
     "text": [
      "/Users/Mel/Desktop/Ecole_Inge/MFD/Risque de Credit et Défaut/Copulas_For_Credit_Risk/utils_simulation.py:70: FutureWarning: The default of observed=False is deprecated and will be changed to True in a future version of pandas. Pass observed=False to retain current behavior or observed=True to adopt the future default and silence this warning.\n",
      "  default_rates_by_tranche = portfolio.groupby(\"Tranche\")[\"Average_Default_Contribution\"].mean()\n"
     ]
    }
   ],
   "source": [
    "ut.print_summary(defaults_matrix, portfolio, recovery_rate=0.4)"
   ]
  },
  {
   "cell_type": "markdown",
   "metadata": {},
   "source": [
    "## Gumbel Copulas"
   ]
  },
  {
   "cell_type": "code",
   "execution_count": 73,
   "metadata": {},
   "outputs": [],
   "source": [
    "Gumbel_samples = cop.gumbel_copula_multivariate(theta=100,num_samples=100,portfolio_size=len(portfolio)) # Theta >= 1"
   ]
  },
  {
   "cell_type": "code",
   "execution_count": 74,
   "metadata": {},
   "outputs": [],
   "source": [
    "defaults_matrix = ut.simulate_defaults(Gumbel_samples, portfolio[\"Default_Probability\"].values)"
   ]
  },
  {
   "cell_type": "code",
   "execution_count": 75,
   "metadata": {},
   "outputs": [
    {
     "name": "stdout",
     "output_type": "stream",
     "text": [
      "Résumé des scénarios de défauts :\n",
      "Taux moyen de défaut : 15.28%\n",
      "Taux minimum de défaut : 0.00%\n",
      "Taux maximum de défaut : 86.00%\n"
     ]
    },
    {
     "data": {
      "image/png": "[encoded data removed]",
      "text/plain": [
       "<Figure size 640x480 with 1 Axes>"
      ]
     },
     "metadata": {},
     "output_type": "display_data"
    },
    {
     "name": "stdout",
     "output_type": "stream",
     "text": [
      "Probabilité de scénarios avec plus de 30% de défauts : 12.00%\n"
     ]
    },
    {
     "data": {
      "image/png": "[encoded data removed]",
      "text/plain": [
       "<Figure size 1000x800 with 2 Axes>"
      ]
     },
     "metadata": {},
     "output_type": "display_data"
    },
    {
     "name": "stdout",
     "output_type": "stream",
     "text": [
      "Pertes moyennes : $5,342,701\n",
      "Pertes maximales : $30,941,741\n",
      "Pertes minimales : $0\n",
      "Taux de défaut moyen par tranche :\n",
      " Tranche\n",
      "0-1M      0.157727\n",
      "1-1.5M    0.151250\n",
      "1.5-2M    0.145833\n",
      "Name: Average_Default_Contribution, dtype: float64\n"
     ]
    },
    {
     "name": "stderr",
     "output_type": "stream",
     "text": [
      "/Users/Mel/Desktop/Ecole_Inge/MFD/Risque de Credit et Défaut/Copulas_For_Credit_Risk/utils_simulation.py:70: FutureWarning: The default of observed=False is deprecated and will be changed to True in a future version of pandas. Pass observed=False to retain current behavior or observed=True to adopt the future default and silence this warning.\n",
      "  default_rates_by_tranche = portfolio.groupby(\"Tranche\")[\"Average_Default_Contribution\"].mean()\n"
     ]
    }
   ],
   "source": [
    "ut.print_summary(defaults_matrix, portfolio, recovery_rate=0.4)"
   ]
  },
  {
   "cell_type": "markdown",
   "metadata": {},
   "source": [
    "# Tranches"
   ]
  },
  {
   "cell_type": "markdown",
   "metadata": {},
   "source": [
    "### We first test with the Gaussian Copula"
   ]
  },
  {
   "cell_type": "code",
   "execution_count": 9,
   "metadata": {},
   "outputs": [],
   "source": [
    "gaussian_samples = cop.gaussian_copula_sample(correlation_matrix.to_numpy(), 100)\n",
    "defaults_matrix = ut.simulate_defaults(gaussian_samples, portfolio[\"Default_Probability\"].values)\n",
    "equity_losses, mezzanine_losses, senior_losses =  ut.allocate_losses_by_transches(defaults_matrix, portfolio)"
   ]
  },
  {
   "cell_type": "code",
   "execution_count": 10,
   "metadata": {},
   "outputs": [
    {
     "name": "stdout",
     "output_type": "stream",
     "text": [
      "     Tranche  Pertes Moyennes  Pertes Maximales  Pertes Minimales\n",
      "0     Senior         0.000141            0.0002               0.0\n",
      "1  Mezzanine         1.376782           37.9570               0.0\n",
      "2     Equity        60.842228          100.0000               0.0\n"
     ]
    },
    {
     "data": {
      "image/png": "[encoded data removed]",
      "text/plain": [
       "<Figure size 640x480 with 1 Axes>"
      ]
     },
     "metadata": {},
     "output_type": "display_data"
    }
   ],
   "source": [
    "ut.simmulate_losses_tranche(equity_losses, mezzanine_losses, senior_losses)"
   ]
  },
  {
   "cell_type": "markdown",
   "metadata": {},
   "source": [
    "### Test With Clayton Copulas"
   ]
  },
  {
   "cell_type": "code",
   "execution_count": 11,
   "metadata": {},
   "outputs": [],
   "source": [
    "Clayton_samples = cop.clayton_copula_multivariate(theta=1,num_samples=100,portfolio_size=len(portfolio))\n",
    "defaults_matrix = ut.simulate_defaults(Clayton_samples, portfolio[\"Default_Probability\"].values)\n",
    "equity_losses, mezzanine_losses, senior_losses =  ut.allocate_losses_by_transches(defaults_matrix, portfolio)"
   ]
  },
  {
   "cell_type": "code",
   "execution_count": 12,
   "metadata": {},
   "outputs": [
    {
     "name": "stdout",
     "output_type": "stream",
     "text": [
      "     Tranche  Pertes Moyennes  Pertes Maximales  Pertes Minimales\n",
      "0     Senior         0.000161            0.0002            0.0000\n",
      "1  Mezzanine        20.619211          100.0000            0.0000\n",
      "2     Equity        71.618246          100.0000           15.3355\n"
     ]
    },
    {
     "data": {
      "image/png": "[encoded data removed]",
      "text/plain": [
       "<Figure size 640x480 with 1 Axes>"
      ]
     },
     "metadata": {},
     "output_type": "display_data"
    }
   ],
   "source": [
    "ut.simmulate_losses_tranche(equity_losses, mezzanine_losses, senior_losses)"
   ]
  },
  {
   "cell_type": "markdown",
   "metadata": {},
   "source": [
    "### Test with Gumbel Copulas"
   ]
  },
  {
   "cell_type": "code",
   "execution_count": 13,
   "metadata": {},
   "outputs": [],
   "source": [
    "Gumbel_samples = cop.gumbel_copula_multivariate(theta=1,num_samples=100,portfolio_size=len(portfolio))\n",
    "defaults_matrix = ut.simulate_defaults(Gumbel_samples, portfolio[\"Default_Probability\"].values)\n",
    "equity_losses, mezzanine_losses, senior_losses =  ut.allocate_losses_by_transches(defaults_matrix, portfolio)"
   ]
  },
  {
   "cell_type": "code",
   "execution_count": 14,
   "metadata": {},
   "outputs": [
    {
     "name": "stdout",
     "output_type": "stream",
     "text": [
      "     Tranche  Pertes Moyennes  Pertes Maximales  Pertes Minimales\n",
      "0     Senior         0.000178            0.0002            0.0000\n",
      "1  Mezzanine        27.349448          100.0000            0.0000\n",
      "2     Equity        83.492788          100.0000           18.7146\n"
     ]
    },
    {
     "data": {
      "image/png": "[encoded data removed]",
      "text/plain": [
       "<Figure size 640x480 with 1 Axes>"
      ]
     },
     "metadata": {},
     "output_type": "display_data"
    }
   ],
   "source": [
    "ut.simmulate_losses_tranche(equity_losses, mezzanine_losses, senior_losses)"
   ]
  },
  {
   "cell_type": "markdown",
   "metadata": {},
   "source": [
    "# Pricing"
   ]
  },
  {
   "cell_type": "markdown",
   "metadata": {},
   "source": [
    "## 1. Gaussian"
   ]
  },
  {
   "cell_type": "code",
   "execution_count": 7,
   "metadata": {},
   "outputs": [],
   "source": [
    "net_cash_flows, tranche_prices, interest_payments, principal_payments, loan_states, losses_per_period, initial_investment, expected_perf = pricer.pricing_CLO_multi_periode_gaussian(correlation_matrix,portfolio)"
   ]
  },
  {
   "cell_type": "code",
   "execution_count": 8,
   "metadata": {},
   "outputs": [],
   "source": [
    "loan = 4"
   ]
  },
  {
   "cell_type": "code",
   "execution_count": 9,
   "metadata": {},
   "outputs": [
    {
     "data": {
      "text/plain": [
       "array([0., 0., 0., 0., 0., 0., 0., 0., 0.])"
      ]
     },
     "execution_count": 9,
     "metadata": {},
     "output_type": "execute_result"
    }
   ],
   "source": [
    "losses_per_period[0,loan,:]"
   ]
  },
  {
   "cell_type": "code",
   "execution_count": 10,
   "metadata": {},
   "outputs": [
    {
     "data": {
      "text/plain": [
       "array([17703.50663708, 17703.50663708, 17703.50663708, 17703.50663708,\n",
       "       17703.50663708, 17703.50663708, 17703.50663708,     0.        ,\n",
       "           0.        ])"
      ]
     },
     "execution_count": 10,
     "metadata": {},
     "output_type": "execute_result"
    }
   ],
   "source": [
    "interest_payments[0,loan,:]"
   ]
  },
  {
   "cell_type": "code",
   "execution_count": 11,
   "metadata": {},
   "outputs": [
    {
     "data": {
      "text/plain": [
       "array([     0.        ,      0.        ,      0.        ,      0.        ,\n",
       "            0.        ,      0.        , 734027.96066365,      0.        ,\n",
       "            0.        ])"
      ]
     },
     "execution_count": 11,
     "metadata": {},
     "output_type": "execute_result"
    }
   ],
   "source": [
    "principal_payments[0,loan,:]"
   ]
  },
  {
   "cell_type": "code",
   "execution_count": 9,
   "metadata": {},
   "outputs": [
    {
     "data": {
      "text/plain": [
       "array([0., 0., 0., 0., 0., 0., 0., 0., 0.])"
      ]
     },
     "execution_count": 9,
     "metadata": {},
     "output_type": "execute_result"
    }
   ],
   "source": [
    "loan_states[0,loan,:]"
   ]
  },
  {
   "cell_type": "code",
   "execution_count": 9,
   "metadata": {},
   "outputs": [
    {
     "data": {
      "text/html": [
       "<div>\n",
       "<style scoped>\n",
       "    .dataframe tbody tr th:only-of-type {\n",
       "        vertical-align: middle;\n",
       "    }\n",
       "\n",
       "    .dataframe tbody tr th {\n",
       "        vertical-align: top;\n",
       "    }\n",
       "\n",
       "    .dataframe thead th {\n",
       "        text-align: right;\n",
       "    }\n",
       "</style>\n",
       "<table border=\"1\" class=\"dataframe\">\n",
       "  <thead>\n",
       "    <tr style=\"text-align: right;\">\n",
       "      <th></th>\n",
       "      <th>Loan_ID</th>\n",
       "      <th>Loan_Amount</th>\n",
       "      <th>Maturity_Years</th>\n",
       "      <th>Default_Probability</th>\n",
       "      <th>Interest_Rate</th>\n",
       "    </tr>\n",
       "  </thead>\n",
       "  <tbody>\n",
       "    <tr>\n",
       "      <th>0</th>\n",
       "      <td>Loan_1</td>\n",
       "      <td>1.061810e+06</td>\n",
       "      <td>2</td>\n",
       "      <td>0.156484</td>\n",
       "      <td>0.042787</td>\n",
       "    </tr>\n",
       "    <tr>\n",
       "      <th>1</th>\n",
       "      <td>Loan_2</td>\n",
       "      <td>1.926071e+06</td>\n",
       "      <td>2</td>\n",
       "      <td>0.103821</td>\n",
       "      <td>0.022951</td>\n",
       "    </tr>\n",
       "    <tr>\n",
       "      <th>2</th>\n",
       "      <td>Loan_3</td>\n",
       "      <td>1.597991e+06</td>\n",
       "      <td>4</td>\n",
       "      <td>0.109319</td>\n",
       "      <td>0.068765</td>\n",
       "    </tr>\n",
       "    <tr>\n",
       "      <th>3</th>\n",
       "      <td>Loan_4</td>\n",
       "      <td>1.397988e+06</td>\n",
       "      <td>8</td>\n",
       "      <td>0.091233</td>\n",
       "      <td>0.060214</td>\n",
       "    </tr>\n",
       "    <tr>\n",
       "      <th>4</th>\n",
       "      <td>Loan_5</td>\n",
       "      <td>7.340280e+05</td>\n",
       "      <td>7</td>\n",
       "      <td>0.014830</td>\n",
       "      <td>0.024118</td>\n",
       "    </tr>\n",
       "    <tr>\n",
       "      <th>5</th>\n",
       "      <td>Loan_6</td>\n",
       "      <td>7.339918e+05</td>\n",
       "      <td>9</td>\n",
       "      <td>0.030499</td>\n",
       "      <td>0.042292</td>\n",
       "    </tr>\n",
       "    <tr>\n",
       "      <th>6</th>\n",
       "      <td>Loan_7</td>\n",
       "      <td>5.871254e+05</td>\n",
       "      <td>8</td>\n",
       "      <td>0.015972</td>\n",
       "      <td>0.092661</td>\n",
       "    </tr>\n",
       "    <tr>\n",
       "      <th>7</th>\n",
       "      <td>Loan_8</td>\n",
       "      <td>1.799264e+06</td>\n",
       "      <td>5</td>\n",
       "      <td>0.130918</td>\n",
       "      <td>0.039165</td>\n",
       "    </tr>\n",
       "    <tr>\n",
       "      <th>8</th>\n",
       "      <td>Loan_9</td>\n",
       "      <td>1.401673e+06</td>\n",
       "      <td>2</td>\n",
       "      <td>0.069728</td>\n",
       "      <td>0.031592</td>\n",
       "    </tr>\n",
       "    <tr>\n",
       "      <th>9</th>\n",
       "      <td>Loan_10</td>\n",
       "      <td>1.562109e+06</td>\n",
       "      <td>5</td>\n",
       "      <td>0.106628</td>\n",
       "      <td>0.059156</td>\n",
       "    </tr>\n",
       "    <tr>\n",
       "      <th>10</th>\n",
       "      <td>Loan_11</td>\n",
       "      <td>5.308767e+05</td>\n",
       "      <td>8</td>\n",
       "      <td>0.182438</td>\n",
       "      <td>0.098852</td>\n",
       "    </tr>\n",
       "    <tr>\n",
       "      <th>11</th>\n",
       "      <td>Loan_12</td>\n",
       "      <td>1.954865e+06</td>\n",
       "      <td>9</td>\n",
       "      <td>0.057366</td>\n",
       "      <td>0.039364</td>\n",
       "    </tr>\n",
       "    <tr>\n",
       "      <th>12</th>\n",
       "      <td>Loan_13</td>\n",
       "      <td>1.748664e+06</td>\n",
       "      <td>9</td>\n",
       "      <td>0.087973</td>\n",
       "      <td>0.073771</td>\n",
       "    </tr>\n",
       "    <tr>\n",
       "      <th>13</th>\n",
       "      <td>Loan_14</td>\n",
       "      <td>8.185087e+05</td>\n",
       "      <td>1</td>\n",
       "      <td>0.153555</td>\n",
       "      <td>0.080930</td>\n",
       "    </tr>\n",
       "    <tr>\n",
       "      <th>14</th>\n",
       "      <td>Loan_15</td>\n",
       "      <td>7.727375e+05</td>\n",
       "      <td>9</td>\n",
       "      <td>0.053472</td>\n",
       "      <td>0.039011</td>\n",
       "    </tr>\n",
       "    <tr>\n",
       "      <th>15</th>\n",
       "      <td>Loan_16</td>\n",
       "      <td>7.751068e+05</td>\n",
       "      <td>7</td>\n",
       "      <td>0.024626</td>\n",
       "      <td>0.078257</td>\n",
       "    </tr>\n",
       "    <tr>\n",
       "      <th>16</th>\n",
       "      <td>Loan_17</td>\n",
       "      <td>9.563634e+05</td>\n",
       "      <td>9</td>\n",
       "      <td>0.065053</td>\n",
       "      <td>0.049423</td>\n",
       "    </tr>\n",
       "    <tr>\n",
       "      <th>17</th>\n",
       "      <td>Loan_18</td>\n",
       "      <td>1.287135e+06</td>\n",
       "      <td>8</td>\n",
       "      <td>0.040632</td>\n",
       "      <td>0.070584</td>\n",
       "    </tr>\n",
       "    <tr>\n",
       "      <th>18</th>\n",
       "      <td>Loan_19</td>\n",
       "      <td>1.147918e+06</td>\n",
       "      <td>1</td>\n",
       "      <td>0.186643</td>\n",
       "      <td>0.070682</td>\n",
       "    </tr>\n",
       "    <tr>\n",
       "      <th>19</th>\n",
       "      <td>Loan_20</td>\n",
       "      <td>9.368437e+05</td>\n",
       "      <td>8</td>\n",
       "      <td>0.163543</td>\n",
       "      <td>0.062862</td>\n",
       "    </tr>\n",
       "    <tr>\n",
       "      <th>20</th>\n",
       "      <td>Loan_21</td>\n",
       "      <td>1.417779e+06</td>\n",
       "      <td>8</td>\n",
       "      <td>0.130347</td>\n",
       "      <td>0.027223</td>\n",
       "    </tr>\n",
       "    <tr>\n",
       "      <th>21</th>\n",
       "      <td>Loan_22</td>\n",
       "      <td>7.092408e+05</td>\n",
       "      <td>3</td>\n",
       "      <td>0.175578</td>\n",
       "      <td>0.086824</td>\n",
       "    </tr>\n",
       "    <tr>\n",
       "      <th>22</th>\n",
       "      <td>Loan_23</td>\n",
       "      <td>9.382170e+05</td>\n",
       "      <td>1</td>\n",
       "      <td>0.162698</td>\n",
       "      <td>0.045662</td>\n",
       "    </tr>\n",
       "    <tr>\n",
       "      <th>23</th>\n",
       "      <td>Loan_24</td>\n",
       "      <td>1.049543e+06</td>\n",
       "      <td>8</td>\n",
       "      <td>0.045448</td>\n",
       "      <td>0.034921</td>\n",
       "    </tr>\n",
       "    <tr>\n",
       "      <th>24</th>\n",
       "      <td>Loan_25</td>\n",
       "      <td>1.184105e+06</td>\n",
       "      <td>3</td>\n",
       "      <td>0.179586</td>\n",
       "      <td>0.023262</td>\n",
       "    </tr>\n",
       "    <tr>\n",
       "      <th>25</th>\n",
       "      <td>Loan_26</td>\n",
       "      <td>1.677764e+06</td>\n",
       "      <td>3</td>\n",
       "      <td>0.112475</td>\n",
       "      <td>0.067271</td>\n",
       "    </tr>\n",
       "    <tr>\n",
       "      <th>26</th>\n",
       "      <td>Loan_27</td>\n",
       "      <td>7.995107e+05</td>\n",
       "      <td>1</td>\n",
       "      <td>0.163414</td>\n",
       "      <td>0.074205</td>\n",
       "    </tr>\n",
       "    <tr>\n",
       "      <th>27</th>\n",
       "      <td>Loan_28</td>\n",
       "      <td>1.271352e+06</td>\n",
       "      <td>5</td>\n",
       "      <td>0.180257</td>\n",
       "      <td>0.021327</td>\n",
       "    </tr>\n",
       "    <tr>\n",
       "      <th>28</th>\n",
       "      <td>Loan_29</td>\n",
       "      <td>1.388622e+06</td>\n",
       "      <td>7</td>\n",
       "      <td>0.070421</td>\n",
       "      <td>0.060967</td>\n",
       "    </tr>\n",
       "    <tr>\n",
       "      <th>29</th>\n",
       "      <td>Loan_30</td>\n",
       "      <td>5.696756e+05</td>\n",
       "      <td>9</td>\n",
       "      <td>0.030910</td>\n",
       "      <td>0.038120</td>\n",
       "    </tr>\n",
       "    <tr>\n",
       "      <th>30</th>\n",
       "      <td>Loan_31</td>\n",
       "      <td>1.411317e+06</td>\n",
       "      <td>7</td>\n",
       "      <td>0.053308</td>\n",
       "      <td>0.071614</td>\n",
       "    </tr>\n",
       "    <tr>\n",
       "      <th>31</th>\n",
       "      <td>Loan_32</td>\n",
       "      <td>7.557862e+05</td>\n",
       "      <td>9</td>\n",
       "      <td>0.091150</td>\n",
       "      <td>0.033949</td>\n",
       "    </tr>\n",
       "    <tr>\n",
       "      <th>32</th>\n",
       "      <td>Loan_33</td>\n",
       "      <td>5.975774e+05</td>\n",
       "      <td>8</td>\n",
       "      <td>0.165423</td>\n",
       "      <td>0.075275</td>\n",
       "    </tr>\n",
       "    <tr>\n",
       "      <th>33</th>\n",
       "      <td>Loan_34</td>\n",
       "      <td>1.923328e+06</td>\n",
       "      <td>2</td>\n",
       "      <td>0.173539</td>\n",
       "      <td>0.050939</td>\n",
       "    </tr>\n",
       "    <tr>\n",
       "      <th>34</th>\n",
       "      <td>Loan_35</td>\n",
       "      <td>1.948448e+06</td>\n",
       "      <td>1</td>\n",
       "      <td>0.011321</td>\n",
       "      <td>0.094938</td>\n",
       "    </tr>\n",
       "    <tr>\n",
       "      <th>35</th>\n",
       "      <td>Loan_36</td>\n",
       "      <td>1.712596e+06</td>\n",
       "      <td>7</td>\n",
       "      <td>0.107042</td>\n",
       "      <td>0.031002</td>\n",
       "    </tr>\n",
       "    <tr>\n",
       "      <th>36</th>\n",
       "      <td>Loan_37</td>\n",
       "      <td>9.569207e+05</td>\n",
       "      <td>7</td>\n",
       "      <td>0.089308</td>\n",
       "      <td>0.047285</td>\n",
       "    </tr>\n",
       "    <tr>\n",
       "      <th>37</th>\n",
       "      <td>Loan_38</td>\n",
       "      <td>6.465082e+05</td>\n",
       "      <td>8</td>\n",
       "      <td>0.052200</td>\n",
       "      <td>0.029078</td>\n",
       "    </tr>\n",
       "    <tr>\n",
       "      <th>38</th>\n",
       "      <td>Loan_39</td>\n",
       "      <td>1.526350e+06</td>\n",
       "      <td>5</td>\n",
       "      <td>0.032774</td>\n",
       "      <td>0.093975</td>\n",
       "    </tr>\n",
       "    <tr>\n",
       "      <th>39</th>\n",
       "      <td>Loan_40</td>\n",
       "      <td>1.160229e+06</td>\n",
       "      <td>3</td>\n",
       "      <td>0.074147</td>\n",
       "      <td>0.090187</td>\n",
       "    </tr>\n",
       "    <tr>\n",
       "      <th>40</th>\n",
       "      <td>Loan_41</td>\n",
       "      <td>6.830574e+05</td>\n",
       "      <td>8</td>\n",
       "      <td>0.189153</td>\n",
       "      <td>0.040635</td>\n",
       "    </tr>\n",
       "    <tr>\n",
       "      <th>41</th>\n",
       "      <td>Loan_42</td>\n",
       "      <td>1.242765e+06</td>\n",
       "      <td>6</td>\n",
       "      <td>0.071409</td>\n",
       "      <td>0.072799</td>\n",
       "    </tr>\n",
       "    <tr>\n",
       "      <th>42</th>\n",
       "      <td>Loan_43</td>\n",
       "      <td>5.515828e+05</td>\n",
       "      <td>3</td>\n",
       "      <td>0.108570</td>\n",
       "      <td>0.085378</td>\n",
       "    </tr>\n",
       "    <tr>\n",
       "      <th>43</th>\n",
       "      <td>Loan_44</td>\n",
       "      <td>1.863981e+06</td>\n",
       "      <td>1</td>\n",
       "      <td>0.143574</td>\n",
       "      <td>0.064416</td>\n",
       "    </tr>\n",
       "    <tr>\n",
       "      <th>44</th>\n",
       "      <td>Loan_45</td>\n",
       "      <td>8.881700e+05</td>\n",
       "      <td>3</td>\n",
       "      <td>0.079090</td>\n",
       "      <td>0.062372</td>\n",
       "    </tr>\n",
       "    <tr>\n",
       "      <th>45</th>\n",
       "      <td>Loan_46</td>\n",
       "      <td>1.493783e+06</td>\n",
       "      <td>5</td>\n",
       "      <td>0.194639</td>\n",
       "      <td>0.039348</td>\n",
       "    </tr>\n",
       "    <tr>\n",
       "      <th>46</th>\n",
       "      <td>Loan_47</td>\n",
       "      <td>9.675666e+05</td>\n",
       "      <td>3</td>\n",
       "      <td>0.192865</td>\n",
       "      <td>0.027448</td>\n",
       "    </tr>\n",
       "    <tr>\n",
       "      <th>47</th>\n",
       "      <td>Loan_48</td>\n",
       "      <td>1.280102e+06</td>\n",
       "      <td>1</td>\n",
       "      <td>0.057839</td>\n",
       "      <td>0.091777</td>\n",
       "    </tr>\n",
       "    <tr>\n",
       "      <th>48</th>\n",
       "      <td>Loan_49</td>\n",
       "      <td>1.320065e+06</td>\n",
       "      <td>5</td>\n",
       "      <td>0.104477</td>\n",
       "      <td>0.092033</td>\n",
       "    </tr>\n",
       "    <tr>\n",
       "      <th>49</th>\n",
       "      <td>Loan_50</td>\n",
       "      <td>7.772817e+05</td>\n",
       "      <td>7</td>\n",
       "      <td>0.067167</td>\n",
       "      <td>0.070648</td>\n",
       "    </tr>\n",
       "  </tbody>\n",
       "</table>\n",
       "</div>"
      ],
      "text/plain": [
       "    Loan_ID   Loan_Amount  Maturity_Years  Default_Probability  Interest_Rate\n",
       "0    Loan_1  1.061810e+06               2             0.156484       0.042787\n",
       "1    Loan_2  1.926071e+06               2             0.103821       0.022951\n",
       "2    Loan_3  1.597991e+06               4             0.109319       0.068765\n",
       "3    Loan_4  1.397988e+06               8             0.091233       0.060214\n",
       "4    Loan_5  7.340280e+05               7             0.014830       0.024118\n",
       "5    Loan_6  7.339918e+05               9             0.030499       0.042292\n",
       "6    Loan_7  5.871254e+05               8             0.015972       0.092661\n",
       "7    Loan_8  1.799264e+06               5             0.130918       0.039165\n",
       "8    Loan_9  1.401673e+06               2             0.069728       0.031592\n",
       "9   Loan_10  1.562109e+06               5             0.106628       0.059156\n",
       "10  Loan_11  5.308767e+05               8             0.182438       0.098852\n",
       "11  Loan_12  1.954865e+06               9             0.057366       0.039364\n",
       "12  Loan_13  1.748664e+06               9             0.087973       0.073771\n",
       "13  Loan_14  8.185087e+05               1             0.153555       0.080930\n",
       "14  Loan_15  7.727375e+05               9             0.053472       0.039011\n",
       "15  Loan_16  7.751068e+05               7             0.024626       0.078257\n",
       "16  Loan_17  9.563634e+05               9             0.065053       0.049423\n",
       "17  Loan_18  1.287135e+06               8             0.040632       0.070584\n",
       "18  Loan_19  1.147918e+06               1             0.186643       0.070682\n",
       "19  Loan_20  9.368437e+05               8             0.163543       0.062862\n",
       "20  Loan_21  1.417779e+06               8             0.130347       0.027223\n",
       "21  Loan_22  7.092408e+05               3             0.175578       0.086824\n",
       "22  Loan_23  9.382170e+05               1             0.162698       0.045662\n",
       "23  Loan_24  1.049543e+06               8             0.045448       0.034921\n",
       "24  Loan_25  1.184105e+06               3             0.179586       0.023262\n",
       "25  Loan_26  1.677764e+06               3             0.112475       0.067271\n",
       "26  Loan_27  7.995107e+05               1             0.163414       0.074205\n",
       "27  Loan_28  1.271352e+06               5             0.180257       0.021327\n",
       "28  Loan_29  1.388622e+06               7             0.070421       0.060967\n",
       "29  Loan_30  5.696756e+05               9             0.030910       0.038120\n",
       "30  Loan_31  1.411317e+06               7             0.053308       0.071614\n",
       "31  Loan_32  7.557862e+05               9             0.091150       0.033949\n",
       "32  Loan_33  5.975774e+05               8             0.165423       0.075275\n",
       "33  Loan_34  1.923328e+06               2             0.173539       0.050939\n",
       "34  Loan_35  1.948448e+06               1             0.011321       0.094938\n",
       "35  Loan_36  1.712596e+06               7             0.107042       0.031002\n",
       "36  Loan_37  9.569207e+05               7             0.089308       0.047285\n",
       "37  Loan_38  6.465082e+05               8             0.052200       0.029078\n",
       "38  Loan_39  1.526350e+06               5             0.032774       0.093975\n",
       "39  Loan_40  1.160229e+06               3             0.074147       0.090187\n",
       "40  Loan_41  6.830574e+05               8             0.189153       0.040635\n",
       "41  Loan_42  1.242765e+06               6             0.071409       0.072799\n",
       "42  Loan_43  5.515828e+05               3             0.108570       0.085378\n",
       "43  Loan_44  1.863981e+06               1             0.143574       0.064416\n",
       "44  Loan_45  8.881700e+05               3             0.079090       0.062372\n",
       "45  Loan_46  1.493783e+06               5             0.194639       0.039348\n",
       "46  Loan_47  9.675666e+05               3             0.192865       0.027448\n",
       "47  Loan_48  1.280102e+06               1             0.057839       0.091777\n",
       "48  Loan_49  1.320065e+06               5             0.104477       0.092033\n",
       "49  Loan_50  7.772817e+05               7             0.067167       0.070648"
      ]
     },
     "execution_count": 9,
     "metadata": {},
     "output_type": "execute_result"
    }
   ],
   "source": [
    "portfolio"
   ]
  },
  {
   "cell_type": "code",
   "execution_count": 13,
   "metadata": {},
   "outputs": [
    {
     "data": {
      "text/plain": [
       "{'Senior': np.float64(34875399.92556523),\n",
       " 'Mezzanine': np.float64(-6078759.096673334),\n",
       " 'Equity': np.float64(-5839840.059016743)}"
      ]
     },
     "execution_count": 13,
     "metadata": {},
     "output_type": "execute_result"
    }
   ],
   "source": [
    "tranche_prices"
   ]
  },
  {
   "cell_type": "code",
   "execution_count": 14,
   "metadata": {},
   "outputs": [
    {
     "data": {
      "text/plain": [
       "array([ 5844429.28294196, 11688858.56588392, 40911004.9805937 ])"
      ]
     },
     "execution_count": 14,
     "metadata": {},
     "output_type": "execute_result"
    }
   ],
   "source": [
    "initial_investment"
   ]
  },
  {
   "cell_type": "code",
   "execution_count": 15,
   "metadata": {},
   "outputs": [
    {
     "data": {
      "text/plain": [
       "[np.float64(5844429.282941959),\n",
       " np.float64(12390190.079836952),\n",
       " np.float64(42547445.17981745)]"
      ]
     },
     "execution_count": 15,
     "metadata": {},
     "output_type": "execute_result"
    }
   ],
   "source": [
    "expected_perf"
   ]
  },
  {
   "cell_type": "code",
   "execution_count": 12,
   "metadata": {},
   "outputs": [
    {
     "data": {
      "text/plain": [
       "np.float64(58444292.82941958)"
      ]
     },
     "execution_count": 12,
     "metadata": {},
     "output_type": "execute_result"
    }
   ],
   "source": [
    "portfolio[\"Loan_Amount\"].sum()"
   ]
  },
  {
   "cell_type": "markdown",
   "metadata": {},
   "source": [
    "## 2. Clayton"
   ]
  },
  {
   "cell_type": "code",
   "execution_count": 7,
   "metadata": {},
   "outputs": [],
   "source": [
    "net_cash_flows, tranche_prices, interest_payments, principal_payments, loan_states, losses_per_period, initial_investment, expected_perf = pricer.pricing_CLO_multi_periode_clayton(\"clayton\", portfolio)"
   ]
  },
  {
   "cell_type": "code",
   "execution_count": 8,
   "metadata": {},
   "outputs": [],
   "source": [
    "loan = 0"
   ]
  },
  {
   "cell_type": "code",
   "execution_count": 9,
   "metadata": {},
   "outputs": [
    {
     "data": {
      "text/plain": [
       "array([637086.10696263,      0.        ,      0.        ,      0.        ,\n",
       "            0.        ,      0.        ,      0.        ,      0.        ,\n",
       "            0.        ])"
      ]
     },
     "execution_count": 9,
     "metadata": {},
     "output_type": "execute_result"
    }
   ],
   "source": [
    "losses_per_period[0,loan,:]"
   ]
  },
  {
   "cell_type": "code",
   "execution_count": 10,
   "metadata": {},
   "outputs": [
    {
     "data": {
      "text/plain": [
       "array([0., 0., 0., 0., 0., 0., 0., 0., 0.])"
      ]
     },
     "execution_count": 10,
     "metadata": {},
     "output_type": "execute_result"
    }
   ],
   "source": [
    "interest_payments[0,loan,:]"
   ]
  },
  {
   "cell_type": "code",
   "execution_count": 11,
   "metadata": {},
   "outputs": [
    {
     "data": {
      "text/plain": [
       "array([0., 0., 0., 0., 0., 0., 0., 0., 0.])"
      ]
     },
     "execution_count": 11,
     "metadata": {},
     "output_type": "execute_result"
    }
   ],
   "source": [
    "principal_payments[0,loan,:]"
   ]
  },
  {
   "cell_type": "code",
   "execution_count": 12,
   "metadata": {},
   "outputs": [
    {
     "data": {
      "text/plain": [
       "array([1., 0., 0., 0., 0., 0., 0., 0., 0.])"
      ]
     },
     "execution_count": 12,
     "metadata": {},
     "output_type": "execute_result"
    }
   ],
   "source": [
    "loan_states[0,loan,:]"
   ]
  },
  {
   "cell_type": "code",
   "execution_count": 8,
   "metadata": {},
   "outputs": [
    {
     "data": {
      "text/plain": [
       "{'Senior': np.float64(9358220.660928225),\n",
       " 'Mezzanine': np.float64(-10436232.306582164),\n",
       " 'Equity': np.float64(-5844429.282941959)}"
      ]
     },
     "execution_count": 8,
     "metadata": {},
     "output_type": "execute_result"
    }
   ],
   "source": [
    "tranche_prices"
   ]
  },
  {
   "cell_type": "code",
   "execution_count": 14,
   "metadata": {},
   "outputs": [
    {
     "data": {
      "text/plain": [
       "array([ 5844429.28294196, 11688858.56588392, 40911004.9805937 ])"
      ]
     },
     "execution_count": 14,
     "metadata": {},
     "output_type": "execute_result"
    }
   ],
   "source": [
    "initial_investment"
   ]
  },
  {
   "cell_type": "code",
   "execution_count": 9,
   "metadata": {},
   "outputs": [
    {
     "data": {
      "text/plain": [
       "[np.float64(5844429.282941959),\n",
       " np.float64(12390190.079836952),\n",
       " np.float64(42547445.17981745)]"
      ]
     },
     "execution_count": 9,
     "metadata": {},
     "output_type": "execute_result"
    }
   ],
   "source": [
    "expected_perf"
   ]
  },
  {
   "cell_type": "code",
   "execution_count": 213,
   "metadata": {},
   "outputs": [
    {
     "data": {
      "text/html": [
       "<div>\n",
       "<style scoped>\n",
       "    .dataframe tbody tr th:only-of-type {\n",
       "        vertical-align: middle;\n",
       "    }\n",
       "\n",
       "    .dataframe tbody tr th {\n",
       "        vertical-align: top;\n",
       "    }\n",
       "\n",
       "    .dataframe thead th {\n",
       "        text-align: right;\n",
       "    }\n",
       "</style>\n",
       "<table border=\"1\" class=\"dataframe\">\n",
       "  <thead>\n",
       "    <tr style=\"text-align: right;\">\n",
       "      <th></th>\n",
       "      <th>Loan_ID</th>\n",
       "      <th>Loan_Amount</th>\n",
       "      <th>Maturity_Years</th>\n",
       "      <th>Default_Probability</th>\n",
       "      <th>Interest_Rate</th>\n",
       "    </tr>\n",
       "  </thead>\n",
       "  <tbody>\n",
       "    <tr>\n",
       "      <th>0</th>\n",
       "      <td>Loan_1</td>\n",
       "      <td>1.061810e+06</td>\n",
       "      <td>2</td>\n",
       "      <td>0.156484</td>\n",
       "      <td>0.042787</td>\n",
       "    </tr>\n",
       "    <tr>\n",
       "      <th>1</th>\n",
       "      <td>Loan_2</td>\n",
       "      <td>1.926071e+06</td>\n",
       "      <td>2</td>\n",
       "      <td>0.103821</td>\n",
       "      <td>0.022951</td>\n",
       "    </tr>\n",
       "    <tr>\n",
       "      <th>2</th>\n",
       "      <td>Loan_3</td>\n",
       "      <td>1.597991e+06</td>\n",
       "      <td>4</td>\n",
       "      <td>0.109319</td>\n",
       "      <td>0.068765</td>\n",
       "    </tr>\n",
       "    <tr>\n",
       "      <th>3</th>\n",
       "      <td>Loan_4</td>\n",
       "      <td>1.397988e+06</td>\n",
       "      <td>8</td>\n",
       "      <td>0.091233</td>\n",
       "      <td>0.060214</td>\n",
       "    </tr>\n",
       "    <tr>\n",
       "      <th>4</th>\n",
       "      <td>Loan_5</td>\n",
       "      <td>7.340280e+05</td>\n",
       "      <td>7</td>\n",
       "      <td>0.014830</td>\n",
       "      <td>0.024118</td>\n",
       "    </tr>\n",
       "    <tr>\n",
       "      <th>5</th>\n",
       "      <td>Loan_6</td>\n",
       "      <td>7.339918e+05</td>\n",
       "      <td>9</td>\n",
       "      <td>0.030499</td>\n",
       "      <td>0.042292</td>\n",
       "    </tr>\n",
       "    <tr>\n",
       "      <th>6</th>\n",
       "      <td>Loan_7</td>\n",
       "      <td>5.871254e+05</td>\n",
       "      <td>8</td>\n",
       "      <td>0.015972</td>\n",
       "      <td>0.092661</td>\n",
       "    </tr>\n",
       "    <tr>\n",
       "      <th>7</th>\n",
       "      <td>Loan_8</td>\n",
       "      <td>1.799264e+06</td>\n",
       "      <td>5</td>\n",
       "      <td>0.130918</td>\n",
       "      <td>0.039165</td>\n",
       "    </tr>\n",
       "    <tr>\n",
       "      <th>8</th>\n",
       "      <td>Loan_9</td>\n",
       "      <td>1.401673e+06</td>\n",
       "      <td>2</td>\n",
       "      <td>0.069728</td>\n",
       "      <td>0.031592</td>\n",
       "    </tr>\n",
       "    <tr>\n",
       "      <th>9</th>\n",
       "      <td>Loan_10</td>\n",
       "      <td>1.562109e+06</td>\n",
       "      <td>5</td>\n",
       "      <td>0.106628</td>\n",
       "      <td>0.059156</td>\n",
       "    </tr>\n",
       "    <tr>\n",
       "      <th>10</th>\n",
       "      <td>Loan_11</td>\n",
       "      <td>5.308767e+05</td>\n",
       "      <td>8</td>\n",
       "      <td>0.182438</td>\n",
       "      <td>0.098852</td>\n",
       "    </tr>\n",
       "    <tr>\n",
       "      <th>11</th>\n",
       "      <td>Loan_12</td>\n",
       "      <td>1.954865e+06</td>\n",
       "      <td>9</td>\n",
       "      <td>0.057366</td>\n",
       "      <td>0.039364</td>\n",
       "    </tr>\n",
       "    <tr>\n",
       "      <th>12</th>\n",
       "      <td>Loan_13</td>\n",
       "      <td>1.748664e+06</td>\n",
       "      <td>9</td>\n",
       "      <td>0.087973</td>\n",
       "      <td>0.073771</td>\n",
       "    </tr>\n",
       "    <tr>\n",
       "      <th>13</th>\n",
       "      <td>Loan_14</td>\n",
       "      <td>8.185087e+05</td>\n",
       "      <td>1</td>\n",
       "      <td>0.153555</td>\n",
       "      <td>0.080930</td>\n",
       "    </tr>\n",
       "    <tr>\n",
       "      <th>14</th>\n",
       "      <td>Loan_15</td>\n",
       "      <td>7.727375e+05</td>\n",
       "      <td>9</td>\n",
       "      <td>0.053472</td>\n",
       "      <td>0.039011</td>\n",
       "    </tr>\n",
       "    <tr>\n",
       "      <th>15</th>\n",
       "      <td>Loan_16</td>\n",
       "      <td>7.751068e+05</td>\n",
       "      <td>7</td>\n",
       "      <td>0.024626</td>\n",
       "      <td>0.078257</td>\n",
       "    </tr>\n",
       "    <tr>\n",
       "      <th>16</th>\n",
       "      <td>Loan_17</td>\n",
       "      <td>9.563634e+05</td>\n",
       "      <td>9</td>\n",
       "      <td>0.065053</td>\n",
       "      <td>0.049423</td>\n",
       "    </tr>\n",
       "    <tr>\n",
       "      <th>17</th>\n",
       "      <td>Loan_18</td>\n",
       "      <td>1.287135e+06</td>\n",
       "      <td>8</td>\n",
       "      <td>0.040632</td>\n",
       "      <td>0.070584</td>\n",
       "    </tr>\n",
       "    <tr>\n",
       "      <th>18</th>\n",
       "      <td>Loan_19</td>\n",
       "      <td>1.147918e+06</td>\n",
       "      <td>1</td>\n",
       "      <td>0.186643</td>\n",
       "      <td>0.070682</td>\n",
       "    </tr>\n",
       "    <tr>\n",
       "      <th>19</th>\n",
       "      <td>Loan_20</td>\n",
       "      <td>9.368437e+05</td>\n",
       "      <td>8</td>\n",
       "      <td>0.163543</td>\n",
       "      <td>0.062862</td>\n",
       "    </tr>\n",
       "    <tr>\n",
       "      <th>20</th>\n",
       "      <td>Loan_21</td>\n",
       "      <td>1.417779e+06</td>\n",
       "      <td>8</td>\n",
       "      <td>0.130347</td>\n",
       "      <td>0.027223</td>\n",
       "    </tr>\n",
       "    <tr>\n",
       "      <th>21</th>\n",
       "      <td>Loan_22</td>\n",
       "      <td>7.092408e+05</td>\n",
       "      <td>3</td>\n",
       "      <td>0.175578</td>\n",
       "      <td>0.086824</td>\n",
       "    </tr>\n",
       "    <tr>\n",
       "      <th>22</th>\n",
       "      <td>Loan_23</td>\n",
       "      <td>9.382170e+05</td>\n",
       "      <td>1</td>\n",
       "      <td>0.162698</td>\n",
       "      <td>0.045662</td>\n",
       "    </tr>\n",
       "    <tr>\n",
       "      <th>23</th>\n",
       "      <td>Loan_24</td>\n",
       "      <td>1.049543e+06</td>\n",
       "      <td>8</td>\n",
       "      <td>0.045448</td>\n",
       "      <td>0.034921</td>\n",
       "    </tr>\n",
       "    <tr>\n",
       "      <th>24</th>\n",
       "      <td>Loan_25</td>\n",
       "      <td>1.184105e+06</td>\n",
       "      <td>3</td>\n",
       "      <td>0.179586</td>\n",
       "      <td>0.023262</td>\n",
       "    </tr>\n",
       "    <tr>\n",
       "      <th>25</th>\n",
       "      <td>Loan_26</td>\n",
       "      <td>1.677764e+06</td>\n",
       "      <td>3</td>\n",
       "      <td>0.112475</td>\n",
       "      <td>0.067271</td>\n",
       "    </tr>\n",
       "    <tr>\n",
       "      <th>26</th>\n",
       "      <td>Loan_27</td>\n",
       "      <td>7.995107e+05</td>\n",
       "      <td>1</td>\n",
       "      <td>0.163414</td>\n",
       "      <td>0.074205</td>\n",
       "    </tr>\n",
       "    <tr>\n",
       "      <th>27</th>\n",
       "      <td>Loan_28</td>\n",
       "      <td>1.271352e+06</td>\n",
       "      <td>5</td>\n",
       "      <td>0.180257</td>\n",
       "      <td>0.021327</td>\n",
       "    </tr>\n",
       "    <tr>\n",
       "      <th>28</th>\n",
       "      <td>Loan_29</td>\n",
       "      <td>1.388622e+06</td>\n",
       "      <td>7</td>\n",
       "      <td>0.070421</td>\n",
       "      <td>0.060967</td>\n",
       "    </tr>\n",
       "    <tr>\n",
       "      <th>29</th>\n",
       "      <td>Loan_30</td>\n",
       "      <td>5.696756e+05</td>\n",
       "      <td>9</td>\n",
       "      <td>0.030910</td>\n",
       "      <td>0.038120</td>\n",
       "    </tr>\n",
       "    <tr>\n",
       "      <th>30</th>\n",
       "      <td>Loan_31</td>\n",
       "      <td>1.411317e+06</td>\n",
       "      <td>7</td>\n",
       "      <td>0.053308</td>\n",
       "      <td>0.071614</td>\n",
       "    </tr>\n",
       "    <tr>\n",
       "      <th>31</th>\n",
       "      <td>Loan_32</td>\n",
       "      <td>7.557862e+05</td>\n",
       "      <td>9</td>\n",
       "      <td>0.091150</td>\n",
       "      <td>0.033949</td>\n",
       "    </tr>\n",
       "    <tr>\n",
       "      <th>32</th>\n",
       "      <td>Loan_33</td>\n",
       "      <td>5.975774e+05</td>\n",
       "      <td>8</td>\n",
       "      <td>0.165423</td>\n",
       "      <td>0.075275</td>\n",
       "    </tr>\n",
       "    <tr>\n",
       "      <th>33</th>\n",
       "      <td>Loan_34</td>\n",
       "      <td>1.923328e+06</td>\n",
       "      <td>2</td>\n",
       "      <td>0.173539</td>\n",
       "      <td>0.050939</td>\n",
       "    </tr>\n",
       "    <tr>\n",
       "      <th>34</th>\n",
       "      <td>Loan_35</td>\n",
       "      <td>1.948448e+06</td>\n",
       "      <td>1</td>\n",
       "      <td>0.011321</td>\n",
       "      <td>0.094938</td>\n",
       "    </tr>\n",
       "    <tr>\n",
       "      <th>35</th>\n",
       "      <td>Loan_36</td>\n",
       "      <td>1.712596e+06</td>\n",
       "      <td>7</td>\n",
       "      <td>0.107042</td>\n",
       "      <td>0.031002</td>\n",
       "    </tr>\n",
       "    <tr>\n",
       "      <th>36</th>\n",
       "      <td>Loan_37</td>\n",
       "      <td>9.569207e+05</td>\n",
       "      <td>7</td>\n",
       "      <td>0.089308</td>\n",
       "      <td>0.047285</td>\n",
       "    </tr>\n",
       "    <tr>\n",
       "      <th>37</th>\n",
       "      <td>Loan_38</td>\n",
       "      <td>6.465082e+05</td>\n",
       "      <td>8</td>\n",
       "      <td>0.052200</td>\n",
       "      <td>0.029078</td>\n",
       "    </tr>\n",
       "    <tr>\n",
       "      <th>38</th>\n",
       "      <td>Loan_39</td>\n",
       "      <td>1.526350e+06</td>\n",
       "      <td>5</td>\n",
       "      <td>0.032774</td>\n",
       "      <td>0.093975</td>\n",
       "    </tr>\n",
       "    <tr>\n",
       "      <th>39</th>\n",
       "      <td>Loan_40</td>\n",
       "      <td>1.160229e+06</td>\n",
       "      <td>3</td>\n",
       "      <td>0.074147</td>\n",
       "      <td>0.090187</td>\n",
       "    </tr>\n",
       "    <tr>\n",
       "      <th>40</th>\n",
       "      <td>Loan_41</td>\n",
       "      <td>6.830574e+05</td>\n",
       "      <td>8</td>\n",
       "      <td>0.189153</td>\n",
       "      <td>0.040635</td>\n",
       "    </tr>\n",
       "    <tr>\n",
       "      <th>41</th>\n",
       "      <td>Loan_42</td>\n",
       "      <td>1.242765e+06</td>\n",
       "      <td>6</td>\n",
       "      <td>0.071409</td>\n",
       "      <td>0.072799</td>\n",
       "    </tr>\n",
       "    <tr>\n",
       "      <th>42</th>\n",
       "      <td>Loan_43</td>\n",
       "      <td>5.515828e+05</td>\n",
       "      <td>3</td>\n",
       "      <td>0.108570</td>\n",
       "      <td>0.085378</td>\n",
       "    </tr>\n",
       "    <tr>\n",
       "      <th>43</th>\n",
       "      <td>Loan_44</td>\n",
       "      <td>1.863981e+06</td>\n",
       "      <td>1</td>\n",
       "      <td>0.143574</td>\n",
       "      <td>0.064416</td>\n",
       "    </tr>\n",
       "    <tr>\n",
       "      <th>44</th>\n",
       "      <td>Loan_45</td>\n",
       "      <td>8.881700e+05</td>\n",
       "      <td>3</td>\n",
       "      <td>0.079090</td>\n",
       "      <td>0.062372</td>\n",
       "    </tr>\n",
       "    <tr>\n",
       "      <th>45</th>\n",
       "      <td>Loan_46</td>\n",
       "      <td>1.493783e+06</td>\n",
       "      <td>5</td>\n",
       "      <td>0.194639</td>\n",
       "      <td>0.039348</td>\n",
       "    </tr>\n",
       "    <tr>\n",
       "      <th>46</th>\n",
       "      <td>Loan_47</td>\n",
       "      <td>9.675666e+05</td>\n",
       "      <td>3</td>\n",
       "      <td>0.192865</td>\n",
       "      <td>0.027448</td>\n",
       "    </tr>\n",
       "    <tr>\n",
       "      <th>47</th>\n",
       "      <td>Loan_48</td>\n",
       "      <td>1.280102e+06</td>\n",
       "      <td>1</td>\n",
       "      <td>0.057839</td>\n",
       "      <td>0.091777</td>\n",
       "    </tr>\n",
       "    <tr>\n",
       "      <th>48</th>\n",
       "      <td>Loan_49</td>\n",
       "      <td>1.320065e+06</td>\n",
       "      <td>5</td>\n",
       "      <td>0.104477</td>\n",
       "      <td>0.092033</td>\n",
       "    </tr>\n",
       "    <tr>\n",
       "      <th>49</th>\n",
       "      <td>Loan_50</td>\n",
       "      <td>7.772817e+05</td>\n",
       "      <td>7</td>\n",
       "      <td>0.067167</td>\n",
       "      <td>0.070648</td>\n",
       "    </tr>\n",
       "  </tbody>\n",
       "</table>\n",
       "</div>"
      ],
      "text/plain": [
       "    Loan_ID   Loan_Amount  Maturity_Years  Default_Probability  Interest_Rate\n",
       "0    Loan_1  1.061810e+06               2             0.156484       0.042787\n",
       "1    Loan_2  1.926071e+06               2             0.103821       0.022951\n",
       "2    Loan_3  1.597991e+06               4             0.109319       0.068765\n",
       "3    Loan_4  1.397988e+06               8             0.091233       0.060214\n",
       "4    Loan_5  7.340280e+05               7             0.014830       0.024118\n",
       "5    Loan_6  7.339918e+05               9             0.030499       0.042292\n",
       "6    Loan_7  5.871254e+05               8             0.015972       0.092661\n",
       "7    Loan_8  1.799264e+06               5             0.130918       0.039165\n",
       "8    Loan_9  1.401673e+06               2             0.069728       0.031592\n",
       "9   Loan_10  1.562109e+06               5             0.106628       0.059156\n",
       "10  Loan_11  5.308767e+05               8             0.182438       0.098852\n",
       "11  Loan_12  1.954865e+06               9             0.057366       0.039364\n",
       "12  Loan_13  1.748664e+06               9             0.087973       0.073771\n",
       "13  Loan_14  8.185087e+05               1             0.153555       0.080930\n",
       "14  Loan_15  7.727375e+05               9             0.053472       0.039011\n",
       "15  Loan_16  7.751068e+05               7             0.024626       0.078257\n",
       "16  Loan_17  9.563634e+05               9             0.065053       0.049423\n",
       "17  Loan_18  1.287135e+06               8             0.040632       0.070584\n",
       "18  Loan_19  1.147918e+06               1             0.186643       0.070682\n",
       "19  Loan_20  9.368437e+05               8             0.163543       0.062862\n",
       "20  Loan_21  1.417779e+06               8             0.130347       0.027223\n",
       "21  Loan_22  7.092408e+05               3             0.175578       0.086824\n",
       "22  Loan_23  9.382170e+05               1             0.162698       0.045662\n",
       "23  Loan_24  1.049543e+06               8             0.045448       0.034921\n",
       "24  Loan_25  1.184105e+06               3             0.179586       0.023262\n",
       "25  Loan_26  1.677764e+06               3             0.112475       0.067271\n",
       "26  Loan_27  7.995107e+05               1             0.163414       0.074205\n",
       "27  Loan_28  1.271352e+06               5             0.180257       0.021327\n",
       "28  Loan_29  1.388622e+06               7             0.070421       0.060967\n",
       "29  Loan_30  5.696756e+05               9             0.030910       0.038120\n",
       "30  Loan_31  1.411317e+06               7             0.053308       0.071614\n",
       "31  Loan_32  7.557862e+05               9             0.091150       0.033949\n",
       "32  Loan_33  5.975774e+05               8             0.165423       0.075275\n",
       "33  Loan_34  1.923328e+06               2             0.173539       0.050939\n",
       "34  Loan_35  1.948448e+06               1             0.011321       0.094938\n",
       "35  Loan_36  1.712596e+06               7             0.107042       0.031002\n",
       "36  Loan_37  9.569207e+05               7             0.089308       0.047285\n",
       "37  Loan_38  6.465082e+05               8             0.052200       0.029078\n",
       "38  Loan_39  1.526350e+06               5             0.032774       0.093975\n",
       "39  Loan_40  1.160229e+06               3             0.074147       0.090187\n",
       "40  Loan_41  6.830574e+05               8             0.189153       0.040635\n",
       "41  Loan_42  1.242765e+06               6             0.071409       0.072799\n",
       "42  Loan_43  5.515828e+05               3             0.108570       0.085378\n",
       "43  Loan_44  1.863981e+06               1             0.143574       0.064416\n",
       "44  Loan_45  8.881700e+05               3             0.079090       0.062372\n",
       "45  Loan_46  1.493783e+06               5             0.194639       0.039348\n",
       "46  Loan_47  9.675666e+05               3             0.192865       0.027448\n",
       "47  Loan_48  1.280102e+06               1             0.057839       0.091777\n",
       "48  Loan_49  1.320065e+06               5             0.104477       0.092033\n",
       "49  Loan_50  7.772817e+05               7             0.067167       0.070648"
      ]
     },
     "execution_count": 213,
     "metadata": {},
     "output_type": "execute_result"
    }
   ],
   "source": [
    "portfolio"
   ]
  },
  {
   "cell_type": "markdown",
   "metadata": {},
   "source": [
    "## 3. Gumbel"
   ]
  },
  {
   "cell_type": "code",
   "execution_count": 10,
   "metadata": {},
   "outputs": [],
   "source": [
    "net_cash_flows, tranche_prices, interest_payments, principal_payments, loan_states, losses_per_period, initial_investment, expected_perf = pricer.pricing_CLO_multi_periode_clayton(\"gumbel\", portfolio)"
   ]
  },
  {
   "cell_type": "code",
   "execution_count": 11,
   "metadata": {},
   "outputs": [
    {
     "data": {
      "text/plain": [
       "{'Senior': np.float64(-12457110.307755508),\n",
       " 'Mezzanine': np.float64(-11591540.16854991),\n",
       " 'Equity': np.float64(-5844429.282941958)}"
      ]
     },
     "execution_count": 11,
     "metadata": {},
     "output_type": "execute_result"
    }
   ],
   "source": [
    "tranche_prices"
   ]
  },
  {
   "cell_type": "code",
   "execution_count": 12,
   "metadata": {},
   "outputs": [
    {
     "data": {
      "text/plain": [
       "array([ 5844429.28294196, 11688858.56588392, 40911004.9805937 ])"
      ]
     },
     "execution_count": 12,
     "metadata": {},
     "output_type": "execute_result"
    }
   ],
   "source": [
    "initial_investment"
   ]
  },
  {
   "cell_type": "code",
   "execution_count": 20,
   "metadata": {},
   "outputs": [
    {
     "data": {
      "text/plain": [
       "array([-200.        , -199.167426  , -130.44928941])"
      ]
     },
     "execution_count": 20,
     "metadata": {},
     "output_type": "execute_result"
    }
   ],
   "source": [
    "import numpy as np\n",
    "tranches_result = np.array([tranche_prices[\"Equity\"],tranche_prices[\"Mezzanine\"],tranche_prices[\"Senior\"]])\n",
    "perc_perf = (tranches_result - initial_investment)/initial_investment*100\n",
    "perc_perf"
   ]
  }
 ],
 "metadata": {
  "kernelspec": {
   "display_name": "creditProj",
   "language": "python",
   "name": "python3"
  },
  "language_info": {
   "codemirror_mode": {
    "name": "ipython",
    "version": 3
   },
   "file_extension": ".py",
   "mimetype": "text/x-python",
   "name": "python",
   "nbconvert_exporter": "python",
   "pygments_lexer": "ipython3",
   "version": "3.10.12"
  },
  "orig_nbformat": 4
 },
 "nbformat": 4,
 "nbformat_minor": 2
}
